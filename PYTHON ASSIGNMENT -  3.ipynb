{
 "cells": [
  {
   "cell_type": "markdown",
   "metadata": {},
   "source": [
    "## 1.1 Write  a  Python  Program  to  implement  your  own  myreduce()  function  which  works  exactly  like  Python's  built-in  function  reduce()"
   ]
  },
  {
   "cell_type": "code",
   "execution_count": 23,
   "metadata": {
    "scrolled": true
   },
   "outputs": [
    {
     "name": "stdout",
     "output_type": "stream",
     "text": [
      "Enter integer values separated by spaces : 1 2 3 4\n",
      "The sum of list elements using inbuilt reduce function is : 10\n",
      "The sum of list elements using myreduce function is : 10\n"
     ]
    }
   ],
   "source": [
    "# normal inbuilt library \"reduce\" function example\n",
    "from functools import reduce\n",
    "\n",
    "l=[int(i) for i in input(\"Enter integer values separated by spaces : \").split()]\n",
    "ans = reduce(lambda a,b:a+b,l)\n",
    "print(\"The sum of list elements using inbuilt reduce function is :\",ans)\n",
    "\n",
    "\n",
    "\n",
    "\n",
    "# Creating own Myreduce function\n",
    "\n",
    "def myreduce(l):\n",
    "    if(len(l)>0):\n",
    "        while(len(l)>0):\n",
    "            if len(l)==1:\n",
    "                print(\"The sum of list elements using myreduce function is :\",l[0])\n",
    "                break\n",
    "            else:\n",
    "                a=l[0]+l[1]\n",
    "                l.remove(l[0])\n",
    "                l.remove(l[0])\n",
    "                l.insert(0,a)\n",
    "    else:\n",
    "        print(\"The list should atleast contain a value\")\n",
    "        return 0\n",
    "    \n",
    "\n",
    "    \n",
    "# own function calling \n",
    "myreduce(l)"
   ]
  },
  {
   "cell_type": "markdown",
   "metadata": {},
   "source": [
    "## 1.2  Write  a  Python  program  to  implement  your  own  myfilter()  function  which  works  exactly  like  Python's  built-in  function  filter()"
   ]
  },
  {
   "cell_type": "code",
   "execution_count": 36,
   "metadata": {},
   "outputs": [
    {
     "name": "stdout",
     "output_type": "stream",
     "text": [
      "Enter integer values separated by spaces : 1 2 3 4\n",
      "After filtering even numbers from the list using inbuilt function : [2, 4]\n",
      "After filtering even numbers from the list using own function :  [2, 4]\n"
     ]
    }
   ],
   "source": [
    "# inbuilt filter function \n",
    "l=[int(i) for i in input(\"Enter integer values separated by spaces : \").split()]\n",
    "\n",
    "l=list(filter(lambda x:x%2==0,l))\n",
    "print(\"After filtering even numbers from the list using inbuilt function :\",l)\n",
    "\n",
    "\n",
    "# creating own myfilter function\n",
    "\n",
    "def myfilter(l):\n",
    "    ans=[]\n",
    "    for i in l:\n",
    "        if i%2==0:\n",
    "            ans.append(i)\n",
    "    print(\"After filtering even numbers from the list using own function : \",ans)\n",
    "\n",
    "# calling myfilter function\n",
    "myfilter(l)"
   ]
  },
  {
   "cell_type": "markdown",
   "metadata": {},
   "source": [
    "## 2. Implement List comprehensions to produce the following lists.\n",
    "> Write List comprehensions to produce the following Lists"
   ]
  },
  {
   "cell_type": "code",
   "execution_count": 42,
   "metadata": {},
   "outputs": [
    {
     "name": "stdout",
     "output_type": "stream",
     "text": [
      "['x', 'xx', 'xxx', 'y', 'yy', 'yyy', 'z', 'zz', 'zzz']\n"
     ]
    }
   ],
   "source": [
    "# ['x', 'xx', 'xxx', 'xxxx', 'y', 'yy', 'yyy', 'yyyy', 'z', 'zz', 'zzz', 'zzzz']\n",
    "\n",
    "l=[i*j for i in 'xyz' for j in range(1,4)]\n",
    "print(l)"
   ]
  },
  {
   "cell_type": "code",
   "execution_count": 45,
   "metadata": {},
   "outputs": [
    {
     "name": "stdout",
     "output_type": "stream",
     "text": [
      "['x', 'y', 'z', 'xx', 'yy', 'zz', 'xxx', 'yyy', 'zzz', 'xxxx', 'yyyy', 'zzzz']\n"
     ]
    }
   ],
   "source": [
    "# ['x', 'y', 'z', 'xx', 'yy', 'zz', 'xxx', 'yyy', 'zzz', 'xxxx', 'yyyy', 'zzzz']\n",
    "\n",
    "l = [i*j for i in range(1,5) for j in 'xyz']\n",
    "print(l)"
   ]
  },
  {
   "cell_type": "code",
   "execution_count": 58,
   "metadata": {},
   "outputs": [
    {
     "name": "stdout",
     "output_type": "stream",
     "text": [
      "[[2], [3], [4], [3], [4], [5], [4], [5], [6]]\n",
      "[[2, 3, 4, 5], [3, 4, 5, 6], [4, 5, 6, 7], [5, 6, 7, 8]]\n"
     ]
    }
   ],
   "source": [
    "# [[2], [3], [4], [3], [4], [5], [4], [5], [6]] [[2, 3, 4, 5], [3, 4, 5, 6], [4, 5, 6, 7], [5, 6, 7, 8]]\n",
    "\n",
    "l=[[i+j] for i in range(2,5) for j in range(3)] \n",
    "l1 = [[i+j for j in range(4)] for i in range(2,6)]\n",
    "print(l)\n",
    "print(l1)"
   ]
  },
  {
   "cell_type": "code",
   "execution_count": 63,
   "metadata": {},
   "outputs": [
    {
     "name": "stdout",
     "output_type": "stream",
     "text": [
      "[(1, 1), (2, 1), (3, 1), (1, 2), (2, 2), (3, 2), (1, 3), (2, 3), (3, 3)]\n"
     ]
    }
   ],
   "source": [
    "# [(1, 1), (2, 1), (3, 1), (1, 2), (2, 2), (3, 2), (1, 3), (2, 3), (3, 3)]\n",
    "\n",
    "l=[(j,i) for i in range(1,4) for j in range(1,4)]\n",
    "print(l)"
   ]
  },
  {
   "cell_type": "code",
   "execution_count": null,
   "metadata": {},
   "outputs": [],
   "source": []
  }
 ],
 "metadata": {
  "kernelspec": {
   "display_name": "Python 3",
   "language": "python",
   "name": "python3"
  },
  "language_info": {
   "codemirror_mode": {
    "name": "ipython",
    "version": 3
   },
   "file_extension": ".py",
   "mimetype": "text/x-python",
   "name": "python",
   "nbconvert_exporter": "python",
   "pygments_lexer": "ipython3",
   "version": "3.8.3"
  }
 },
 "nbformat": 4,
 "nbformat_minor": 4
}
