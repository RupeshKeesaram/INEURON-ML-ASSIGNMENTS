{
 "cells": [
  {
   "cell_type": "markdown",
   "metadata": {},
   "source": [
    "## 1.1 Write a Python Program(with class concepts) to find the area of the triangle using the below\n",
    "* formula for area = (s*(s-a)*(s-b)*(s-c)) ** 0.5\n",
    "> Function to take the length of the sides of triangle from user should be defined in the parent\n",
    "class and function to calculate the area should be defined in subclass."
   ]
  },
  {
   "cell_type": "code",
   "execution_count": 2,
   "metadata": {},
   "outputs": [
    {
     "name": "stdout",
     "output_type": "stream",
     "text": [
      "Enter length of 1st side : 6\n",
      "Enter length of 2nd side : 7\n",
      "Enter length of 3rd side : 8\n",
      "The Area of the Triangle is : 20.33316256758894\n"
     ]
    }
   ],
   "source": [
    "class Area:\n",
    "    def readInput(self):\n",
    "        self.a=int(input(\"Enter length of 1st side : \"))\n",
    "        self.b=int(input(\"Enter length of 2nd side : \"))\n",
    "        self.c=int(input(\"Enter length of 3rd side : \"))\n",
    "        self.s=(self.a+self.b+self.c)/2\n",
    "\n",
    "class subArea(Area):\n",
    "    def findArea(self):\n",
    "        return (self.s*(self.s-self.a)*(self.s-self.b)*(self.s-self.c))**0.5\n",
    "\n",
    "triangle_obj = subArea()\n",
    "triangle_obj.readInput()\n",
    "print(\"The Area of the Triangle is : {}\".format(triangle_obj.findArea()))"
   ]
  },
  {
   "cell_type": "markdown",
   "metadata": {},
   "source": [
    "## 1.2 Write a function filter_long_words() that works as follows\n",
    "> Takes a list of words and an integer n and returns the list of words that are longer than n."
   ]
  },
  {
   "cell_type": "code",
   "execution_count": 9,
   "metadata": {},
   "outputs": [
    {
     "name": "stdout",
     "output_type": "stream",
     "text": [
      "After applying filter function : ['hello', 'world']\n"
     ]
    }
   ],
   "source": [
    "class words:\n",
    "    def __init__(self, l:list, n:int):\n",
    "        self.l = l\n",
    "        self.n=n\n",
    "        \n",
    "    def filter_long_words(self):\n",
    "        self.ans=[]\n",
    "        for i in self.l:\n",
    "            if len(i)<=self.n:\n",
    "                self.ans.append(i)\n",
    "        return self.ans\n",
    "\n",
    "\"\"\"\n",
    "\n",
    "l = input(\"Enter strings separated with spaces : \").split()\n",
    "n = int(input(\"Enter n value : \"))\n",
    "samp_obj = words(l,n)\n",
    "\n",
    "\"\"\"\n",
    "\n",
    "samp_obj = words([\"hello\",\"world\",\"sample\",\"programme\"],5)\n",
    "print(\"After applying filter function : {}\".format(samp_obj.filter_long_words()))"
   ]
  },
  {
   "cell_type": "markdown",
   "metadata": {},
   "source": [
    "## 2.1 Write a Python program using function concept that maps list of words into a list of integers representing the lengths of the corresponding words.\n",
    "#### Hint : \n",
    "> If a list [ ab,cde,erty] is passed on to the python function output should come as [2,3,4] Here 2,3 and 4 are the lengths of the words in the list."
   ]
  },
  {
   "cell_type": "code",
   "execution_count": 16,
   "metadata": {},
   "outputs": [
    {
     "name": "stdout",
     "output_type": "stream",
     "text": [
      "Enter a set of strinfs separated with comma(',') : ab,cde,erty\n",
      "Lengths of strings given are : [2, 3, 4]\n"
     ]
    }
   ],
   "source": [
    "# reading the input and splitting the input based on space\n",
    "\n",
    "def fun(l:list):\n",
    "    ans=[len(i) for i in l]\n",
    "    \n",
    "    '''\n",
    "    l=eval(input(\"Enter a list of strings : \"))\n",
    "    ans=[len(i) for i in l]\n",
    "    \n",
    "    '''\n",
    "    return ans\n",
    "    \n",
    "    \n",
    "\n",
    "l=input(\"Enter a set of strinfs separated with comma(',') : \").split(\",\")\n",
    "print(\"Lengths of strings given are : {}\".format(fun(l)))\n",
    "\n"
   ]
  },
  {
   "cell_type": "markdown",
   "metadata": {},
   "source": [
    "## 2.2   Write a Python function which takes a character (i.e. a string of length 1) and returns True if it is a vowel, False otherwise."
   ]
  },
  {
   "cell_type": "code",
   "execution_count": 18,
   "metadata": {},
   "outputs": [
    {
     "name": "stdout",
     "output_type": "stream",
     "text": [
      "Enter any character (String with length as 1) : A\n",
      "A is a Vowel.\n"
     ]
    }
   ],
   "source": [
    "def isVowel(c:str):\n",
    "    return c.lower() in \"aeiou\"\n",
    "\n",
    "c=input(\"Enter any character (String with length as 1) : \")\n",
    "\n",
    "if isVowel(c):\n",
    "    print(\"{} is a Vowel.\".format(c))\n",
    "else:\n",
    "    print(\"{} is not a Vowel (Consonant).\".format(c))"
   ]
  },
  {
   "cell_type": "code",
   "execution_count": null,
   "metadata": {},
   "outputs": [],
   "source": []
  }
 ],
 "metadata": {
  "kernelspec": {
   "display_name": "Python 3",
   "language": "python",
   "name": "python3"
  },
  "language_info": {
   "codemirror_mode": {
    "name": "ipython",
    "version": 3
   },
   "file_extension": ".py",
   "mimetype": "text/x-python",
   "name": "python",
   "nbconvert_exporter": "python",
   "pygments_lexer": "ipython3",
   "version": "3.8.3"
  }
 },
 "nbformat": 4,
 "nbformat_minor": 4
}
