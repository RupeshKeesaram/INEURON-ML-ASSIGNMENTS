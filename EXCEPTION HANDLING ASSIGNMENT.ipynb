{
 "cells": [
  {
   "cell_type": "markdown",
   "metadata": {},
   "source": [
    "## 1. Write a function to compute 5/0 and use try/except to catch the exceptions."
   ]
  },
  {
   "cell_type": "code",
   "execution_count": 3,
   "metadata": {},
   "outputs": [
    {
     "name": "stdout",
     "output_type": "stream",
     "text": [
      "division by zero\n"
     ]
    }
   ],
   "source": [
    "try:\n",
    "    print(\"Results for 5/0 is : \",5/0)\n",
    "except Exception as e:\n",
    "    print(e)"
   ]
  },
  {
   "cell_type": "markdown",
   "metadata": {},
   "source": [
    "## 2. Implement a Python program to generate all sentences\n",
    "> Where subject is in\n",
    "[\"Americans\", \"Indians\"] and verb is in [\"Play\", \"watch\"] and the object is in\n",
    "[\"Baseball\",\"cricket\"].\n",
    "\n",
    "#### HINT :-\n",
    "\n",
    "> Subject,Verb and Object should be declared in the program as shown below.\n",
    "* subjects=[\"Americans \",\"Indians\"]\n",
    "* verbs=[\"play\",\"watch\"]\n",
    "* objects=[\"Baseball\",\"Cricket\"]"
   ]
  },
  {
   "cell_type": "code",
   "execution_count": null,
   "metadata": {},
   "outputs": [
    {
     "name": "stdout",
     "output_type": "stream",
     "text": [
      "Enter a list containing strings that represent subjects : [\"Americans \",\"Indians\"]\n"
     ]
    }
   ],
   "source": [
    "# readings subjects,verbs and objects from the user\n",
    "try:\n",
    "    subjects = eval(input(\"Enter a list containing strings that represent subjects : \"))\n",
    "    verbs = eval(input(\"Enter a list containing strings that represent verbs : \"))\n",
    "    objects = eval(input(\"Enter a list containing strings that represent objects : \"))\n",
    "    \n",
    "    for subject in subjects:\n",
    "        for verb in verbs:\n",
    "            for obj in objects:\n",
    "                print(\"{} {} {}\".format(subject,verb,obj))\n",
    "                \n",
    "except Exception as e:\n",
    "    print(e)"
   ]
  },
  {
   "cell_type": "code",
   "execution_count": null,
   "metadata": {},
   "outputs": [],
   "source": []
  }
 ],
 "metadata": {
  "kernelspec": {
   "display_name": "Python 3",
   "language": "python",
   "name": "python3"
  },
  "language_info": {
   "codemirror_mode": {
    "name": "ipython",
    "version": 3
   },
   "file_extension": ".py",
   "mimetype": "text/x-python",
   "name": "python",
   "nbconvert_exporter": "python",
   "pygments_lexer": "ipython3",
   "version": "3.8.3"
  }
 },
 "nbformat": 4,
 "nbformat_minor": 4
}
